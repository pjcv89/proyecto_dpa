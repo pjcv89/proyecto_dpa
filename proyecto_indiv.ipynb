{
 "cells": [
  {
   "cell_type": "markdown",
   "metadata": {},
   "source": [
    "# PROYECTO INDIVIDUAL"
   ]
  },
  {
   "cell_type": "markdown",
   "metadata": {},
   "source": [
    "## Pablo Campos V. - 108783\n",
    "### Datos: Mortalidad (Proyecto 5)"
   ]
  },
  {
   "cell_type": "markdown",
   "metadata": {},
   "source": [
    "### Importación de Spark y definición del SparkContext y el SQLContext"
   ]
  },
  {
   "cell_type": "code",
   "execution_count": 1,
   "metadata": {
    "collapsed": true
   },
   "outputs": [],
   "source": [
    "import pyspark\n",
    "sc = pyspark.SparkContext('local[*]')\n",
    "sqlContext = pyspark.SQLContext(sc)"
   ]
  },
  {
   "cell_type": "code",
   "execution_count": 92,
   "metadata": {
    "collapsed": true
   },
   "outputs": [],
   "source": [
    "from pyspark.sql import Row\n",
    "from pyspark.sql.types import *\n",
    "import pandas as pd"
   ]
  },
  {
   "cell_type": "markdown",
   "metadata": {},
   "source": [
    "### Comprobamos que el archivo de los datos están en el working directory"
   ]
  },
  {
   "cell_type": "code",
   "execution_count": 185,
   "metadata": {
    "collapsed": false
   },
   "outputs": [
    {
     "name": "stdout",
     "output_type": "stream",
     "text": [
      "GBD_Classification_23NOV2015.psv  proyecto_indiv.ipynb\r\n"
     ]
    }
   ],
   "source": [
    "! ls"
   ]
  },
  {
   "cell_type": "markdown",
   "metadata": {},
   "source": [
    "### Lectura del archivo como RDD"
   ]
  },
  {
   "cell_type": "code",
   "execution_count": 5,
   "metadata": {
    "collapsed": true
   },
   "outputs": [],
   "source": [
    "raw_data = sc.textFile(\"GBD_Classification_23NOV2015.psv\")"
   ]
  },
  {
   "cell_type": "markdown",
   "metadata": {},
   "source": [
    "### Obtención del header"
   ]
  },
  {
   "cell_type": "code",
   "execution_count": 8,
   "metadata": {
    "collapsed": false
   },
   "outputs": [],
   "source": [
    "header = raw_data.first()"
   ]
  },
  {
   "cell_type": "code",
   "execution_count": 9,
   "metadata": {
    "collapsed": false
   },
   "outputs": [
    {
     "name": "stdout",
     "output_type": "stream",
     "text": [
      "\"control\"|\"s_state\"|\"s_mun\"|\"s_hab\"|\"st_loc\"|\"state_die\"|\"mun_die\"|\"cause\"|\"gender\"|\"year_die\"|\"month_die\"|\"day_die\"|\"year_reg\"|\"month_reg\"|\"year_bir\"|\"month_bir\"|\"day_bir\"|\"occup\"|\"mar_st\"|\"presum\"|\"at_work\"|\"place_die\"|\"necrop\"|\"med_assi\"|\"unit_die\"|\"cert_byd\"|\"cert_nod\"|\"nat\"|\"hcare\"|\"preg_con\"|\"preg_rel\"|\"hour_die\"|\"min_die\"|\"age_corr\"|\"regis\"|\"viol\"|\"state_reg\"|\"mun_reg\"|\"loc_reg\"|\"s_loc\"|\"loc_die\"|\"t_loc_die\"|\"day_reg\"|\"weight\"|\"year_cert\"|\"month_cert\"|\"day_cert\"|\"com_preg\"|\"cond_cert\"|\"cond_act\"|\"stmunres\"|\"GBD_cause\"|\"GBD_subcause\"|\"WR\"|\"dead\"|\"imputed\"|\"GBD_cat\"|\"ed_re\"|\"marst_re\"|\"placedie_re\"|\"YLLg\"|\"YLLg2\"|\"cohort\"|\"extralife\"|\"YLLe\"|\"YLLe2\"|\"YLLe3\"|\"YLLg3\"\n"
     ]
    }
   ],
   "source": [
    "print(header)"
   ]
  },
  {
   "cell_type": "code",
   "execution_count": 77,
   "metadata": {
    "collapsed": false
   },
   "outputs": [],
   "source": [
    "Colnames = Row('control','s_state','s_mun','s_hab', 'st_loc', 'state_die', 'mun_die','cause', 'gender', 'year_die', 'month_die',\n",
    "              'day_die','year_reg','month_reg','year_bir','month_bir','day_bir','occup','mar_st','presum','at_work','place_die',\n",
    "              'necreop','med_assi','unit_die','cert_byd','cert_not','nat','hcare','preg_con','preg_rel','hour_die','min_die',\n",
    "              'age_corr','regis','viol','state_reg','mun_reg','loc_reg','s_loc','loc_die','t_loc_die','day_reg','weight','year_cert',\n",
    "              'month_cert','day_cert','com_preg','cond_cert','cond_act','stmunres','GBD_cause','GBD_subcause','WR','dead','imputed',\n",
    "              'GBD_cat','ed_re','marst_re','placedie_re','YLLg','YLLg2','cohort','extralife','YLLe','YLLe2','YLLe3','YLLg3')\n",
    "\n",
    "def getSchema(linea):\n",
    "            return Colnames(*linea)"
   ]
  },
  {
   "cell_type": "markdown",
   "metadata": {},
   "source": [
    "### Creación del DataFrame de Spark:\n",
    "### Se elimina el header, sustituimos \"NA\" y comillas por espacios, separamos  Pipe y obtenemos el esquema"
   ]
  },
  {
   "cell_type": "code",
   "execution_count": 103,
   "metadata": {
    "collapsed": false
   },
   "outputs": [],
   "source": [
    "df_data = raw_data.filter(lambda line: line != header)\\\n",
    "                    .map(lambda line: line.replace('\"', ''))\\\n",
    "                    .map(lambda line: line.replace('NA', ''))\\\n",
    "                    .map(lambda x: x.split('|')) \\\n",
    "                    .map(lambda x: getSchema(x))\\\n",
    "                    .toDF()"
   ]
  },
  {
   "cell_type": "markdown",
   "metadata": {},
   "source": [
    "### Se registra este DataFrame para poder realizar queries via sqlContext.sql()"
   ]
  },
  {
   "cell_type": "code",
   "execution_count": null,
   "metadata": {
    "collapsed": true
   },
   "outputs": [],
   "source": [
    "df_data.registerTempTable('df')"
   ]
  },
  {
   "cell_type": "code",
   "execution_count": 131,
   "metadata": {
    "collapsed": false
   },
   "outputs": [
    {
     "name": "stdout",
     "output_type": "stream",
     "text": [
      "+---------+-----------+\n",
      "|tableName|isTemporary|\n",
      "+---------+-----------+\n",
      "|       df|       true|\n",
      "+---------+-----------+\n",
      "\n"
     ]
    }
   ],
   "source": [
    "sqlContext.sql(\"show tables\").show()"
   ]
  },
  {
   "cell_type": "markdown",
   "metadata": {},
   "source": [
    "### Número de registros en el DataFrame"
   ]
  },
  {
   "cell_type": "code",
   "execution_count": 106,
   "metadata": {
    "collapsed": false
   },
   "outputs": [
    {
     "name": "stdout",
     "output_type": "stream",
     "text": [
      "+-------+\n",
      "|    _c0|\n",
      "+-------+\n",
      "|8157598|\n",
      "+-------+\n",
      "\n"
     ]
    }
   ],
   "source": [
    "sqlContext.sql(\"select count(*) from df\").show()"
   ]
  },
  {
   "cell_type": "markdown",
   "metadata": {},
   "source": [
    "### Visualizamos el esquema del DataFrame"
   ]
  },
  {
   "cell_type": "code",
   "execution_count": 108,
   "metadata": {
    "collapsed": false
   },
   "outputs": [
    {
     "name": "stdout",
     "output_type": "stream",
     "text": [
      "root\n",
      " |-- control: string (nullable = true)\n",
      " |-- s_state: string (nullable = true)\n",
      " |-- s_mun: string (nullable = true)\n",
      " |-- s_hab: string (nullable = true)\n",
      " |-- st_loc: string (nullable = true)\n",
      " |-- state_die: string (nullable = true)\n",
      " |-- mun_die: string (nullable = true)\n",
      " |-- cause: string (nullable = true)\n",
      " |-- gender: string (nullable = true)\n",
      " |-- year_die: string (nullable = true)\n",
      " |-- month_die: string (nullable = true)\n",
      " |-- day_die: string (nullable = true)\n",
      " |-- year_reg: string (nullable = true)\n",
      " |-- month_reg: string (nullable = true)\n",
      " |-- year_bir: string (nullable = true)\n",
      " |-- month_bir: string (nullable = true)\n",
      " |-- day_bir: string (nullable = true)\n",
      " |-- occup: string (nullable = true)\n",
      " |-- mar_st: string (nullable = true)\n",
      " |-- presum: string (nullable = true)\n",
      " |-- at_work: string (nullable = true)\n",
      " |-- place_die: string (nullable = true)\n",
      " |-- necreop: string (nullable = true)\n",
      " |-- med_assi: string (nullable = true)\n",
      " |-- unit_die: string (nullable = true)\n",
      " |-- cert_byd: string (nullable = true)\n",
      " |-- cert_not: string (nullable = true)\n",
      " |-- nat: string (nullable = true)\n",
      " |-- hcare: string (nullable = true)\n",
      " |-- preg_con: string (nullable = true)\n",
      " |-- preg_rel: string (nullable = true)\n",
      " |-- hour_die: string (nullable = true)\n",
      " |-- min_die: string (nullable = true)\n",
      " |-- age_corr: string (nullable = true)\n",
      " |-- regis: string (nullable = true)\n",
      " |-- viol: string (nullable = true)\n",
      " |-- state_reg: string (nullable = true)\n",
      " |-- mun_reg: string (nullable = true)\n",
      " |-- loc_reg: string (nullable = true)\n",
      " |-- s_loc: string (nullable = true)\n",
      " |-- loc_die: string (nullable = true)\n",
      " |-- t_loc_die: string (nullable = true)\n",
      " |-- day_reg: string (nullable = true)\n",
      " |-- weight: string (nullable = true)\n",
      " |-- year_cert: string (nullable = true)\n",
      " |-- month_cert: string (nullable = true)\n",
      " |-- day_cert: string (nullable = true)\n",
      " |-- com_preg: string (nullable = true)\n",
      " |-- cond_cert: string (nullable = true)\n",
      " |-- cond_act: string (nullable = true)\n",
      " |-- stmunres: string (nullable = true)\n",
      " |-- GBD_cause: string (nullable = true)\n",
      " |-- GBD_subcause: string (nullable = true)\n",
      " |-- WR: string (nullable = true)\n",
      " |-- dead: string (nullable = true)\n",
      " |-- imputed: string (nullable = true)\n",
      " |-- GBD_cat: string (nullable = true)\n",
      " |-- ed_re: string (nullable = true)\n",
      " |-- marst_re: string (nullable = true)\n",
      " |-- placedie_re: string (nullable = true)\n",
      " |-- YLLg: string (nullable = true)\n",
      " |-- YLLg2: string (nullable = true)\n",
      " |-- cohort: string (nullable = true)\n",
      " |-- extralife: string (nullable = true)\n",
      " |-- YLLe: string (nullable = true)\n",
      " |-- YLLe2: string (nullable = true)\n",
      " |-- YLLe3: string (nullable = true)\n",
      " |-- YLLg3: string (nullable = true)\n",
      "\n"
     ]
    }
   ],
   "source": [
    "df_data.printSchema()"
   ]
  },
  {
   "cell_type": "markdown",
   "metadata": {},
   "source": [
    "### Elegimos para trabajar las columnas: control, s_state, cause, gender, year_die"
   ]
  },
  {
   "cell_type": "code",
   "execution_count": 123,
   "metadata": {
    "collapsed": false
   },
   "outputs": [
    {
     "name": "stdout",
     "output_type": "stream",
     "text": [
      "+-----------+-------+-----+------+--------+\n",
      "|    control|s_state|cause|gender|year_die|\n",
      "+-----------+-------+-----+------+--------+\n",
      "|15010010001|      1| C509|     2|    1998|\n",
      "|15010010001|      1| V099|     1|    1998|\n",
      "|15010010001|      1| F102|     1|    1998|\n",
      "|15010010001|      1| C249|     2|    1998|\n",
      "|15010010001|      1| C716|     2|    1998|\n",
      "|15010010001|      1| I420|     2|    1998|\n",
      "|15010010001|      1| P021|     1|    1998|\n",
      "|15010010001|      1| K254|     2|    1998|\n",
      "|15010010001|      1| I219|     2|    1998|\n",
      "|15010010001|      1| E149|     2|    1998|\n",
      "+-----------+-------+-----+------+--------+\n",
      "\n"
     ]
    }
   ],
   "source": [
    "sqlContext.sql(\"select control, s_state, cause, gender, year_die from df limit 10\").show()"
   ]
  },
  {
   "cell_type": "markdown",
   "metadata": {},
   "source": [
    "### Definimos una funcion para que Spark tome los campos vacios como missings"
   ]
  },
  {
   "cell_type": "code",
   "execution_count": 120,
   "metadata": {
    "collapsed": true
   },
   "outputs": [],
   "source": [
    "from pyspark.sql.functions import col, when\n",
    "\n",
    "def reemplaza(x):\n",
    "    return when(col(x) != \"\", col(x)).otherwise(None)"
   ]
  },
  {
   "cell_type": "code",
   "execution_count": 125,
   "metadata": {
    "collapsed": true
   },
   "outputs": [],
   "source": [
    "df_data = df_data.withColumn(\"s_state\", reemplaza(\"s_state\"))\n",
    "df_data = df_data.withColumn(\"cause\", reemplaza(\"cause\"))\n",
    "df_data = df_data.withColumn(\"gender\", reemplaza(\"gender\"))\n",
    "df_data = df_data.withColumn(\"year_die\", reemplaza(\"year_die\"))"
   ]
  },
  {
   "cell_type": "markdown",
   "metadata": {},
   "source": [
    "### Creamos un nuevo DataFrame con el subconjunto de columnas a utilizar"
   ]
  },
  {
   "cell_type": "code",
   "execution_count": 146,
   "metadata": {
    "collapsed": false
   },
   "outputs": [],
   "source": [
    "df_sub = df_data.select(df_data['control'], df_data['s_state'], df_data['cause'], df_data['gender'],df_data['year_die'])"
   ]
  },
  {
   "cell_type": "markdown",
   "metadata": {},
   "source": [
    "### Vemos el esquema del nuevo DataFrame"
   ]
  },
  {
   "cell_type": "code",
   "execution_count": 147,
   "metadata": {
    "collapsed": false
   },
   "outputs": [
    {
     "name": "stdout",
     "output_type": "stream",
     "text": [
      "root\n",
      " |-- control: string (nullable = true)\n",
      " |-- s_state: string (nullable = true)\n",
      " |-- cause: string (nullable = true)\n",
      " |-- gender: string (nullable = true)\n",
      " |-- year_die: string (nullable = true)\n",
      "\n"
     ]
    }
   ],
   "source": [
    "df_sub.printSchema()"
   ]
  },
  {
   "cell_type": "markdown",
   "metadata": {},
   "source": [
    "### Visualizamos unos cuantos renglones"
   ]
  },
  {
   "cell_type": "code",
   "execution_count": 148,
   "metadata": {
    "collapsed": false
   },
   "outputs": [
    {
     "name": "stdout",
     "output_type": "stream",
     "text": [
      "+-----------+-------+-----+------+--------+\n",
      "|    control|s_state|cause|gender|year_die|\n",
      "+-----------+-------+-----+------+--------+\n",
      "|15010010001|      1| C509|     2|    1998|\n",
      "|15010010001|      1| V099|     1|    1998|\n",
      "|15010010001|      1| F102|     1|    1998|\n",
      "|15010010001|      1| C249|     2|    1998|\n",
      "|15010010001|      1| C716|     2|    1998|\n",
      "+-----------+-------+-----+------+--------+\n",
      "only showing top 5 rows\n",
      "\n"
     ]
    }
   ],
   "source": [
    "df_sub.show(5)"
   ]
  },
  {
   "cell_type": "markdown",
   "metadata": {},
   "source": [
    "### Registramos este nuevo DataFrame para los queries subsecuentes"
   ]
  },
  {
   "cell_type": "code",
   "execution_count": 150,
   "metadata": {
    "collapsed": true
   },
   "outputs": [],
   "source": [
    "df_sub.registerTempTable('df_sub')"
   ]
  },
  {
   "cell_type": "markdown",
   "metadata": {},
   "source": [
    "### Realizamos el cast de las columnas que necesitamos en formato numérico"
   ]
  },
  {
   "cell_type": "code",
   "execution_count": 151,
   "metadata": {
    "collapsed": false
   },
   "outputs": [],
   "source": [
    "df_sub_1 = sqlContext.sql(\"select control, cast(s_state as FLOAT) as s_state, cause, cast(gender as INT) as gender, cast(year_die as FLOAT) as year_die from df_sub\")"
   ]
  },
  {
   "cell_type": "code",
   "execution_count": 152,
   "metadata": {
    "collapsed": false
   },
   "outputs": [],
   "source": [
    "df_sub_1.registerTempTable('df_sub_1')"
   ]
  },
  {
   "cell_type": "markdown",
   "metadata": {},
   "source": [
    "### Visualizamos el DataFrame después de realizar el cast"
   ]
  },
  {
   "cell_type": "code",
   "execution_count": 153,
   "metadata": {
    "collapsed": false
   },
   "outputs": [
    {
     "name": "stdout",
     "output_type": "stream",
     "text": [
      "+-----------+-------+-----+------+--------+\n",
      "|    control|s_state|cause|gender|year_die|\n",
      "+-----------+-------+-----+------+--------+\n",
      "|15010010001|    1.0| C509|     2|  1998.0|\n",
      "|15010010001|    1.0| V099|     1|  1998.0|\n",
      "|15010010001|    1.0| F102|     1|  1998.0|\n",
      "|15010010001|    1.0| C249|     2|  1998.0|\n",
      "|15010010001|    1.0| C716|     2|  1998.0|\n",
      "|15010010001|    1.0| I420|     2|  1998.0|\n",
      "|15010010001|    1.0| P021|     1|  1998.0|\n",
      "|15010010001|    1.0| K254|     2|  1998.0|\n",
      "|15010010001|    1.0| I219|     2|  1998.0|\n",
      "|15010010001|    1.0| E149|     2|  1998.0|\n",
      "|15010010001|    1.0| G809|     1|  1998.0|\n",
      "|15010010001|    1.0| E785|     2|  1998.0|\n",
      "|15010010001|    1.0| I259|     1|  1998.0|\n",
      "|15010010001|    1.0| E128|     2|  1998.0|\n",
      "|15010010001|    1.0| I269|     2|  1998.0|\n",
      "|15010010001|    1.0| E149|     2|  1998.0|\n",
      "|15010010001|    1.0| K275|     1|  1998.0|\n",
      "|15010010001|   14.0| X599|     2|  1998.0|\n",
      "|15010010001|    1.0| X599|     1|  1998.0|\n",
      "|15010010001|    1.0| Q249|     1|  1998.0|\n",
      "+-----------+-------+-----+------+--------+\n",
      "only showing top 20 rows\n",
      "\n"
     ]
    }
   ],
   "source": [
    "df_sub_1.show()"
   ]
  },
  {
   "cell_type": "markdown",
   "metadata": {},
   "source": [
    "### Vemos el nuevo esquema después del cast"
   ]
  },
  {
   "cell_type": "code",
   "execution_count": 155,
   "metadata": {
    "collapsed": false
   },
   "outputs": [
    {
     "name": "stdout",
     "output_type": "stream",
     "text": [
      "root\n",
      " |-- control: string (nullable = true)\n",
      " |-- s_state: float (nullable = true)\n",
      " |-- cause: string (nullable = true)\n",
      " |-- gender: integer (nullable = true)\n",
      " |-- year_die: float (nullable = true)\n",
      "\n"
     ]
    }
   ],
   "source": [
    "df_sub_1.printSchema()"
   ]
  },
  {
   "cell_type": "markdown",
   "metadata": {},
   "source": [
    "### Realizamos un query para obtener las causas de muerte mas frecuentes"
   ]
  },
  {
   "cell_type": "code",
   "execution_count": 161,
   "metadata": {
    "collapsed": false
   },
   "outputs": [
    {
     "name": "stdout",
     "output_type": "stream",
     "text": [
      "+-----+-----+\n",
      "|cause|  _c1|\n",
      "+-----+-----+\n",
      "| C900|11794|\n",
      "| B019|  895|\n",
      "| K768|  840|\n",
      "| K650|10383|\n",
      "| Q780|  395|\n",
      "| W739|  545|\n",
      "| B190|  462|\n",
      "| Q898|  574|\n",
      "| A010| 1161|\n",
      "| R220|    6|\n",
      "| D134|   91|\n",
      "| L703|    1|\n",
      "| F411|   26|\n",
      "| V235|   38|\n",
      "| W126|  126|\n",
      "| N26X|  221|\n",
      "| C694|   50|\n",
      "| Y241|   16|\n",
      "| X017|   30|\n",
      "| Q447|  193|\n",
      "+-----+-----+\n",
      "only showing top 20 rows\n",
      "\n"
     ]
    }
   ],
   "source": [
    "by_cause = sqlContext.sql(\"select cause, count(cause) from df_sub_1 group by cause\")\n",
    "by_cause.registerTempTable('by_cause')\n",
    "by_cause_sort = sqlContext.sql(\"select cause, _c1 from by_cause order by _c1 desc\")"
   ]
  },
  {
   "cell_type": "markdown",
   "metadata": {},
   "source": [
    "### Llevamos el DataFrame ordenado a un Pandas DataFrame para visualizar los resultados"
   ]
  },
  {
   "cell_type": "code",
   "execution_count": 175,
   "metadata": {
    "collapsed": true
   },
   "outputs": [],
   "source": [
    "by_cause_sort.registerTempTable('by_cause_sort')\n",
    "by_cause_sort_pd = by_cause_sort.toPandas()"
   ]
  },
  {
   "cell_type": "code",
   "execution_count": 179,
   "metadata": {
    "collapsed": false
   },
   "outputs": [
    {
     "data": {
      "text/html": [
       "<div>\n",
       "<table border=\"1\" class=\"dataframe\">\n",
       "  <thead>\n",
       "    <tr style=\"text-align: right;\">\n",
       "      <th></th>\n",
       "      <th>cause</th>\n",
       "      <th>_c1</th>\n",
       "    </tr>\n",
       "  </thead>\n",
       "  <tbody>\n",
       "    <tr>\n",
       "      <th>0</th>\n",
       "      <td>I219</td>\n",
       "      <td>752901</td>\n",
       "    </tr>\n",
       "    <tr>\n",
       "      <th>1</th>\n",
       "      <td>E112</td>\n",
       "      <td>222223</td>\n",
       "    </tr>\n",
       "    <tr>\n",
       "      <th>2</th>\n",
       "      <td>K746</td>\n",
       "      <td>193455</td>\n",
       "    </tr>\n",
       "    <tr>\n",
       "      <th>3</th>\n",
       "      <td>K703</td>\n",
       "      <td>170979</td>\n",
       "    </tr>\n",
       "    <tr>\n",
       "      <th>4</th>\n",
       "      <td>E119</td>\n",
       "      <td>168267</td>\n",
       "    </tr>\n",
       "  </tbody>\n",
       "</table>\n",
       "</div>"
      ],
      "text/plain": [
       "  cause     _c1\n",
       "0  I219  752901\n",
       "1  E112  222223\n",
       "2  K746  193455\n",
       "3  K703  170979\n",
       "4  E119  168267"
      ]
     },
     "execution_count": 179,
     "metadata": {},
     "output_type": "execute_result"
    }
   ],
   "source": [
    "by_cause_sort_pd.head()"
   ]
  },
  {
   "cell_type": "code",
   "execution_count": 180,
   "metadata": {
    "collapsed": false
   },
   "outputs": [
    {
     "data": {
      "text/html": [
       "<div>\n",
       "<table border=\"1\" class=\"dataframe\">\n",
       "  <thead>\n",
       "    <tr style=\"text-align: right;\">\n",
       "      <th></th>\n",
       "      <th>cause</th>\n",
       "      <th>_c1</th>\n",
       "    </tr>\n",
       "  </thead>\n",
       "  <tbody>\n",
       "    <tr>\n",
       "      <th>6715</th>\n",
       "      <td>X016</td>\n",
       "      <td>1</td>\n",
       "    </tr>\n",
       "    <tr>\n",
       "      <th>6716</th>\n",
       "      <td>L658</td>\n",
       "      <td>1</td>\n",
       "    </tr>\n",
       "    <tr>\n",
       "      <th>6717</th>\n",
       "      <td>B469</td>\n",
       "      <td>1</td>\n",
       "    </tr>\n",
       "    <tr>\n",
       "      <th>6718</th>\n",
       "      <td>Y402</td>\n",
       "      <td>1</td>\n",
       "    </tr>\n",
       "    <tr>\n",
       "      <th>6719</th>\n",
       "      <td>B351</td>\n",
       "      <td>1</td>\n",
       "    </tr>\n",
       "  </tbody>\n",
       "</table>\n",
       "</div>"
      ],
      "text/plain": [
       "     cause  _c1\n",
       "6715  X016    1\n",
       "6716  L658    1\n",
       "6717  B469    1\n",
       "6718  Y402    1\n",
       "6719  B351    1"
      ]
     },
     "execution_count": 180,
     "metadata": {},
     "output_type": "execute_result"
    }
   ],
   "source": [
    "by_cause_sort_pd.tail()"
   ]
  },
  {
   "cell_type": "code",
   "execution_count": 183,
   "metadata": {
    "collapsed": false
   },
   "outputs": [
    {
     "data": {
      "text/plain": [
       "<matplotlib.axes._subplots.AxesSubplot at 0x7fa1ac6b1c10>"
      ]
     },
     "execution_count": 183,
     "metadata": {},
     "output_type": "execute_result"
    },
    {
     "data": {
      "image/png": "[encoded data removed]",
      "text/plain": [
       "<matplotlib.figure.Figure at 0x7fa1a174df90>"
      ]
     },
     "metadata": {},
     "output_type": "display_data"
    }
   ],
   "source": [
    "sns.set_style(\"whitegrid\")\n",
    "sns.barplot(x=\"cause\", y=\"_c1\", data=by_cause_sort_pd[:20])"
   ]
  },
  {
   "cell_type": "markdown",
   "metadata": {},
   "source": [
    "### Realizamos un query para obtener el número de muertes por año y llevamos los resultados a un Pandas DataFrame para visualizar"
   ]
  },
  {
   "cell_type": "code",
   "execution_count": 165,
   "metadata": {
    "collapsed": false
   },
   "outputs": [],
   "source": [
    "by_year = sqlContext.sql(\"select year_die, count(year_die) from df_sub_1 group by year_die\")\n",
    "by_year.registerTempTable('by_year')\n",
    "by_year_pd = by_year.toPandas()"
   ]
  },
  {
   "cell_type": "code",
   "execution_count": 166,
   "metadata": {
    "collapsed": false
   },
   "outputs": [
    {
     "data": {
      "text/html": [
       "<div>\n",
       "<table border=\"1\" class=\"dataframe\">\n",
       "  <thead>\n",
       "    <tr style=\"text-align: right;\">\n",
       "      <th></th>\n",
       "      <th>year_die</th>\n",
       "      <th>_c1</th>\n",
       "    </tr>\n",
       "  </thead>\n",
       "  <tbody>\n",
       "    <tr>\n",
       "      <th>0</th>\n",
       "      <td>2007</td>\n",
       "      <td>513790</td>\n",
       "    </tr>\n",
       "    <tr>\n",
       "      <th>1</th>\n",
       "      <td>2006</td>\n",
       "      <td>493693</td>\n",
       "    </tr>\n",
       "    <tr>\n",
       "      <th>2</th>\n",
       "      <td>2005</td>\n",
       "      <td>495734</td>\n",
       "    </tr>\n",
       "    <tr>\n",
       "      <th>3</th>\n",
       "      <td>2004</td>\n",
       "      <td>472639</td>\n",
       "    </tr>\n",
       "    <tr>\n",
       "      <th>4</th>\n",
       "      <td>2003</td>\n",
       "      <td>471711</td>\n",
       "    </tr>\n",
       "  </tbody>\n",
       "</table>\n",
       "</div>"
      ],
      "text/plain": [
       "   year_die     _c1\n",
       "0      2007  513790\n",
       "1      2006  493693\n",
       "2      2005  495734\n",
       "3      2004  472639\n",
       "4      2003  471711"
      ]
     },
     "execution_count": 166,
     "metadata": {},
     "output_type": "execute_result"
    }
   ],
   "source": [
    "by_year_pd.head()"
   ]
  },
  {
   "cell_type": "code",
   "execution_count": 168,
   "metadata": {
    "collapsed": false
   },
   "outputs": [],
   "source": [
    "import matplotlib\n",
    "import matplotlib.pyplot as plt\n",
    "import seaborn as sns\n",
    "%matplotlib inline"
   ]
  },
  {
   "cell_type": "code",
   "execution_count": 174,
   "metadata": {
    "collapsed": false
   },
   "outputs": [
    {
     "data": {
      "text/plain": [
       "<matplotlib.axes._subplots.AxesSubplot at 0x7fa1a1a44810>"
      ]
     },
     "execution_count": 174,
     "metadata": {},
     "output_type": "execute_result"
    },
    {
     "data": {
      "image/png": "[encoded data removed]",
      "text/plain": [
       "<matplotlib.figure.Figure at 0x7fa1ad2bb110>"
      ]
     },
     "metadata": {},
     "output_type": "display_data"
    }
   ],
   "source": [
    "sns.set_style(\"whitegrid\")\n",
    "sns.barplot(x=\"year_die\", y=\"_c1\", data=by_year_pd)"
   ]
  },
  {
   "cell_type": "code",
   "execution_count": null,
   "metadata": {
    "collapsed": true
   },
   "outputs": [],
   "source": []
  }
 ],
 "metadata": {
  "kernelspec": {
   "display_name": "Python 2",
   "language": "python",
   "name": "python2"
  },
  "language_info": {
   "codemirror_mode": {
    "name": "ipython",
    "version": 2
   },
   "file_extension": ".py",
   "mimetype": "text/x-python",
   "name": "python",
   "nbconvert_exporter": "python",
   "pygments_lexer": "ipython2",
   "version": "2.7.11"
  },
  "widgets": {
   "state": {},
   "version": "1.1.2"
  }
 },
 "nbformat": 4,
 "nbformat_minor": 0
}
